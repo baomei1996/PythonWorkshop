{
 "cells": [
  {
   "cell_type": "code",
   "execution_count": 1,
   "id": "4605b95b",
   "metadata": {},
   "outputs": [
    {
     "name": "stdout",
     "output_type": "stream",
     "text": [
      "<function times at 0x7fd6d6b7fd30>\n",
      "100\n",
      "<class 'function'>\n"
     ]
    }
   ],
   "source": [
    "def times(a, b):\n",
    "    return a * b\n",
    "\n",
    "print(times)\n",
    "print(times(10, 10))\n",
    "print(type(times))"
   ]
  },
  {
   "cell_type": "code",
   "execution_count": 2,
   "id": "e1cdd4f3",
   "metadata": {},
   "outputs": [
    {
     "name": "stdout",
     "output_type": "stream",
     "text": [
      "{'__name__': '__main__', '__doc__': 'Automatically created module for IPython interactive environment', '__package__': None, '__loader__': None, '__spec__': None, '__builtin__': <module 'builtins' (built-in)>, '__builtins__': <module 'builtins' (built-in)>, '_ih': ['', 'def times(a, b):\\n    return a * b\\n\\nprint(times)\\nprint(times(10, 10))\\nprint(type(times))', 'print(globals())'], '_oh': {}, '_dh': ['/Users/anbomi/python_works/PythonWorkshop'], 'In': ['', 'def times(a, b):\\n    return a * b\\n\\nprint(times)\\nprint(times(10, 10))\\nprint(type(times))', 'print(globals())'], 'Out': {}, 'get_ipython': <bound method InteractiveShell.get_ipython of <ipykernel.zmqshell.ZMQInteractiveShell object at 0x7fd6d6a997c0>>, 'exit': <IPython.core.autocall.ZMQExitAutocall object at 0x7fd6d6b0df70>, 'quit': <IPython.core.autocall.ZMQExitAutocall object at 0x7fd6d6b0df70>, '_': '', '__': '', '___': '', '_i': 'def times(a, b):\\n    return a * b\\n\\nprint(times)\\nprint(times(10, 10))\\nprint(type(times))', '_ii': '', '_iii': '', '_i1': 'def times(a, b):\\n    return a * b\\n\\nprint(times)\\nprint(times(10, 10))\\nprint(type(times))', 'times': <function times at 0x7fd6d6b7fd30>, '_i2': 'print(globals())'}\n"
     ]
    }
   ],
   "source": [
    "print(globals())"
   ]
  },
  {
   "cell_type": "code",
   "execution_count": 3,
   "id": "611a3c61",
   "metadata": {},
   "outputs": [
    {
     "name": "stdout",
     "output_type": "stream",
     "text": [
      "100\n"
     ]
    }
   ],
   "source": [
    "# 위에서 times 라는 함수의 주소는 0x0000~~ 으로 출력되었다.\n",
    "\n",
    "ointerOfFunction = times \n",
    "res = pointerOfFunction(10, 10) # Jave Interface 는 내부적으로 요렇게 구현됨\n",
    "print(res)"
   ]
  },
  {
   "cell_type": "code",
   "execution_count": 4,
   "id": "65755780",
   "metadata": {},
   "outputs": [
    {
     "name": "stdout",
     "output_type": "stream",
     "text": [
      "['p', 'p', 'e']\n"
     ]
    }
   ],
   "source": [
    "def intersect(prelist, postlist):\n",
    "    retList = []\n",
    "    \n",
    "    for x in prelist:\n",
    "        if x in postlist:\n",
    "            retList.append(x)\n",
    "    return retList\n",
    "\n",
    "list1 = 'Apple'\n",
    "list2 = 'grape'\n",
    "\n",
    "print(intersect(list1, list2))"
   ]
  },
  {
   "cell_type": "code",
   "execution_count": 5,
   "id": "30bcd632",
   "metadata": {},
   "outputs": [
    {
     "name": "stdout",
     "output_type": "stream",
     "text": [
      "['A']\n"
     ]
    }
   ],
   "source": [
    "print(intersect(list1, ['H', 'A', 'M']))"
   ]
  },
  {
   "cell_type": "code",
   "execution_count": 7,
   "id": "e3c0fbe5",
   "metadata": {},
   "outputs": [
    {
     "name": "stdout",
     "output_type": "stream",
     "text": [
      "(7, 3)\n"
     ]
    }
   ],
   "source": [
    "def swap(x, y):\n",
    "    return y, x\n",
    "    \n",
    "print(swap(3, 7))"
   ]
  },
  {
   "cell_type": "code",
   "execution_count": 8,
   "id": "06a81cca",
   "metadata": {},
   "outputs": [
    {
     "name": "stdout",
     "output_type": "stream",
     "text": [
      "77\n",
      "33\n"
     ]
    }
   ],
   "source": [
    "a, b = swap(33, 77)\n",
    "\n",
    "print(a)\n",
    "print(b)"
   ]
  },
  {
   "cell_type": "code",
   "execution_count": 9,
   "id": "3cc4c1ab",
   "metadata": {},
   "outputs": [
    {
     "name": "stdout",
     "output_type": "stream",
     "text": [
      "(777, 333)\n",
      "<class 'tuple'>\n"
     ]
    }
   ],
   "source": [
    "x = swap(333, 777)\n",
    "\n",
    "print(x)\n",
    "print(type(x))\n",
    "\n",
    "# tuple (튜플)은 변경 불가능한 리스트라 생각하면 됨\n",
    "# 변경이 불가능하다란? 불변(immutable)\n",
    "# 즉 const의 형식을 따르고 있다는 의미임\n",
    "\n",
    "# 우리가 final을 사용했던 이유는?\n",
    "# 수십 ~ 수백명이 프로젝트를 함께 진행할 경유 \n",
    "# 빠른 생산성으로 인해 상호간 정보 교환은 \n",
    "# 깃에 올리는 코드로 모든 소통을 대부분 진행하게 된다. \n",
    "# 결론: 바꾸면 안되는 것을 바꿔서 팀 작업에 혼선을 유발할 수 있는 경우에는 \n",
    "#       미리 튜플(고정값)으로 만들어서 변경이 불가능하게 만들기 위함\n",
    "#        사전에 문제가 발생할 수도 잇는 부분을 원천 차단하는 역할이다. "
   ]
  },
  {
   "cell_type": "code",
   "execution_count": 10,
   "id": "48577247",
   "metadata": {},
   "outputs": [
    {
     "name": "stdout",
     "output_type": "stream",
     "text": [
      "30\n"
     ]
    }
   ],
   "source": [
    "a = 10\n",
    "b = 20\n",
    "\n",
    "def mysum(x, y):\n",
    "    return x + y\n",
    "\n",
    "print(mysum(a, b))"
   ]
  },
  {
   "cell_type": "code",
   "execution_count": 12,
   "id": "b3dd07cb",
   "metadata": {},
   "outputs": [
    {
     "name": "stdout",
     "output_type": "stream",
     "text": [
      "11\n",
      "10\n"
     ]
    }
   ],
   "source": [
    "x = 10\n",
    "\n",
    "def mysum2(x, y):\n",
    "    x = 1\n",
    "    return x + y\n",
    "\n",
    "print(mysum2(x, x))\n",
    "print(x)"
   ]
  },
  {
   "cell_type": "code",
   "execution_count": 13,
   "id": "dc039438",
   "metadata": {},
   "outputs": [
    {
     "name": "stdout",
     "output_type": "stream",
     "text": [
      "1\n",
      "10\n",
      "7\n"
     ]
    }
   ],
   "source": [
    "glob = 1\n",
    "print(glob)\n",
    "\n",
    "def exch_scope(x):\n",
    "    # global 키워드가 있으면 \n",
    "    # 해당 변수를 지역변수가 아닌 전역변수로서 활용한다. \n",
    "    global glob\n",
    "    glob = 7\n",
    "    return glob + x\n",
    "\n",
    "print(exch_scope(3))\n",
    "print(glob)"
   ]
  },
  {
   "cell_type": "code",
   "execution_count": 14,
   "id": "cfda1271",
   "metadata": {},
   "outputs": [
    {
     "name": "stdout",
     "output_type": "stream",
     "text": [
      "6\n"
     ]
    }
   ],
   "source": [
    "# 이것은 결국 함수 이름이 g나 마찬가지인 구조\n",
    "g = lambda x, y: x * y\n",
    "print(g(2, 3))"
   ]
  },
  {
   "cell_type": "code",
   "execution_count": 16,
   "id": "e106abd6",
   "metadata": {},
   "outputs": [
    {
     "name": "stdout",
     "output_type": "stream",
     "text": [
      "27\n"
     ]
    }
   ],
   "source": [
    "# 이와 같이 한다면 함수 객체를 저장하는 변수가 없으므로 익명 함수가 됨\n",
    "print((lambda x: x * x * x)(3))"
   ]
  },
  {
   "cell_type": "code",
   "execution_count": 17,
   "id": "fb9b6fe8",
   "metadata": {},
   "outputs": [
    {
     "name": "stdout",
     "output_type": "stream",
     "text": [
      "1\n",
      "2\n",
      "4\n"
     ]
    }
   ],
   "source": [
    "for i in range(1, 5):\n",
    "    if (i == 3):\n",
    "        pass\n",
    "    else:\n",
    "        print(i)\n",
    "    "
   ]
  },
  {
   "cell_type": "code",
   "execution_count": 19,
   "id": "b8e027e0",
   "metadata": {},
   "outputs": [
    {
     "name": "stdout",
     "output_type": "stream",
     "text": [
      "0 1\n",
      "1 1\n",
      "2 2\n",
      "3 3\n",
      "4 5\n",
      "5 8\n",
      "6 13\n",
      "7 21\n",
      "8 34\n",
      "9 55\n",
      "10 89\n",
      "11 144\n",
      "12 233\n",
      "13 377\n",
      "14 610\n",
      "15 987\n",
      "16 1597\n",
      "17 2584\n",
      "18 4181\n",
      "19 6765\n"
     ]
    }
   ],
   "source": [
    "def fib():\n",
    "    a, b = 1, 1\n",
    "    \n",
    "    while 1:\n",
    "        # for (;;) 무한 루프 조건 없으니 무조건\n",
    "        # while (1) 이것도 무조건\n",
    "        # while (참) 0이 아니면 무조건 참\n",
    "        yield a\n",
    "        # 현재 실행 스택 메모리를 유지하면서 결과값을 호출한 곳으로 돌려준다. \n",
    "        a, b = b, a + b\n",
    "\n",
    "for i, ret in enumerate(fib()):\n",
    "    if i < 20:\n",
    "        print(i, ret)\n",
    "    else:\n",
    "        break\n",
    "        \n"
   ]
  },
  {
   "cell_type": "code",
   "execution_count": 21,
   "id": "51e65ceb",
   "metadata": {},
   "outputs": [
    {
     "name": "stdout",
     "output_type": "stream",
     "text": [
      "6765\n"
     ]
    }
   ],
   "source": [
    "def fib2(n):\n",
    "    if n < 2:\n",
    "        return n \n",
    "    else: \n",
    "        return fib2(n-1) + fib2(n-2)\n",
    "    \n",
    "print(fib2(20))"
   ]
  },
  {
   "cell_type": "code",
   "execution_count": null,
   "id": "611709ce",
   "metadata": {},
   "outputs": [],
   "source": []
  }
 ],
 "metadata": {
  "kernelspec": {
   "display_name": "Python 3",
   "language": "python",
   "name": "python3"
  },
  "language_info": {
   "codemirror_mode": {
    "name": "ipython",
    "version": 3
   },
   "file_extension": ".py",
   "mimetype": "text/x-python",
   "name": "python",
   "nbconvert_exporter": "python",
   "pygments_lexer": "ipython3",
   "version": "3.8.8"
  }
 },
 "nbformat": 4,
 "nbformat_minor": 5
}
