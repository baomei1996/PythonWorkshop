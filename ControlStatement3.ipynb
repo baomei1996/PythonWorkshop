{
 "cells": [
  {
   "cell_type": "code",
   "execution_count": 1,
   "id": "35357362",
   "metadata": {},
   "outputs": [
    {
     "name": "stdout",
     "output_type": "stream",
     "text": [
      "[5, 6, 7, 8, 9]\n"
     ]
    }
   ],
   "source": [
    "print(list(range(5, 10)))"
   ]
  },
  {
   "cell_type": "code",
   "execution_count": 2,
   "id": "8c69f0e1",
   "metadata": {},
   "outputs": [
    {
     "name": "stdout",
     "output_type": "stream",
     "text": [
      "[1, 2, 3, 4, 5, 6, 7, 8, 9, 10]\n"
     ]
    }
   ],
   "source": [
    "print(list(range(1, 11)))"
   ]
  },
  {
   "cell_type": "code",
   "execution_count": 4,
   "id": "1298b2fd",
   "metadata": {},
   "outputs": [
    {
     "name": "stdout",
     "output_type": "stream",
     "text": [
      "idx: 0, val: Apple\n",
      "idx: 1, val: Orange\n",
      "idx: 2, val: Grape\n",
      "idx: 3, val: Banana\n"
     ]
    }
   ],
   "source": [
    "strList = ['Apple', 'Orange', 'Grape', \"Banana\"]\n",
    "\n",
    "for i in range(len(strList)):\n",
    "    print('idx: {0}, val: {1}'.format(i, strList[i]))"
   ]
  },
  {
   "cell_type": "code",
   "execution_count": 5,
   "id": "85d08deb",
   "metadata": {},
   "outputs": [
    {
     "name": "stdout",
     "output_type": "stream",
     "text": [
      "(0, 100)\n",
      "(1, 33.7)\n",
      "(2, 'Grape')\n"
     ]
    }
   ],
   "source": [
    "varList = [100, 33.7, 'Grape']\n",
    "\n",
    "for i in enumerate(varList):\n",
    "    print(i)"
   ]
  },
  {
   "cell_type": "code",
   "execution_count": 7,
   "id": "62f55a34",
   "metadata": {},
   "outputs": [
    {
     "name": "stdout",
     "output_type": "stream",
     "text": [
      "[4.5, -1.5, 12, 6.0, -2.0, 16, 7.5, -2.5, 20]\n",
      "<class 'list'>\n"
     ]
    }
   ],
   "source": [
    "numList1 = [3, 4, 5]\n",
    "numList2 = [1.5, -0.5, 4]\n",
    "\n",
    "resLists = [x * y for x in numList1 for y in numList2]\n",
    "print(resLists)\n",
    "print(type(resLists))"
   ]
  },
  {
   "cell_type": "code",
   "execution_count": null,
   "id": "c9f00106",
   "metadata": {},
   "outputs": [],
   "source": []
  }
 ],
 "metadata": {
  "kernelspec": {
   "display_name": "Python 3",
   "language": "python",
   "name": "python3"
  },
  "language_info": {
   "codemirror_mode": {
    "name": "ipython",
    "version": 3
   },
   "file_extension": ".py",
   "mimetype": "text/x-python",
   "name": "python",
   "nbconvert_exporter": "python",
   "pygments_lexer": "ipython3",
   "version": "3.8.8"
  }
 },
 "nbformat": 4,
 "nbformat_minor": 5
}
