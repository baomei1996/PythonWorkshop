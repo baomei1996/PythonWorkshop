{
 "cells": [
  {
   "cell_type": "code",
   "execution_count": 1,
   "id": "28b05a49",
   "metadata": {},
   "outputs": [],
   "source": [
    "import smtplib"
   ]
  },
  {
   "cell_type": "code",
   "execution_count": 3,
   "id": "648d4e86",
   "metadata": {},
   "outputs": [],
   "source": [
    "from email.mime.text import MIMEText"
   ]
  },
  {
   "cell_type": "code",
   "execution_count": 10,
   "id": "827543c7",
   "metadata": {},
   "outputs": [],
   "source": [
    "import os\n",
    "from email.mime.multipart import MIMEMultipart\n",
    "\n",
    "from email import encoders\n",
    "\n",
    "from email.mime.text import MIMEText\n",
    "\n",
    "from email.mime.image import MIMEImage\n",
    "\n",
    "from email.mime.audio import MIMEAudio\n",
    "\n",
    "# 이 모든 정보들을 관장하는 객체\n",
    "\n",
    "from email.mime.base import MIMEBase"
   ]
  },
  {
   "cell_type": "code",
   "execution_count": 12,
   "id": "6515924e",
   "metadata": {},
   "outputs": [],
   "source": [
    "def send_email(smtp_info, msg):\n",
    "    with smtplib.SMTP(smtp_info['smtp_server'], smtp_info['smtp_port']) as server:\n",
    "        server.starttls()\n",
    "        \n",
    "        server.login(smtp_info['smtp_user_id'], smtp_info['smtp_user_pw'])\n",
    "        \n",
    "        res = server.sendmail(msg['From'], msg['To'], msg.as_string())\n",
    "        \n",
    "        if not res: \n",
    "            print('이메일 전송 선공')\n",
    "        else:\n",
    "            print(res)"
   ]
  },
  {
   "cell_type": "code",
   "execution_count": 15,
   "id": "473d20ba",
   "metadata": {},
   "outputs": [
    {
     "name": "stdout",
     "output_type": "stream",
     "text": [
      "이메일 전송 선공\n"
     ]
    }
   ],
   "source": [
    "smtp_info = dict({\n",
    "    \"smtp_server\": \"smtp.naver.com\",\n",
    "    \"smtp_user_id\": \"qhal3379@naver.com\",\n",
    "    \"smtp_user_pw\": \"qh147258369\",\n",
    "    \"smtp_port\": 587\n",
    "})\n",
    "\n",
    "title = '가즈아~~!!'\n",
    "content = \"날아오르라 주식이여!!!\"\n",
    "sender = smtp_info[\"smtp_user_id\"]\n",
    "receiver = smtp_info[\"smtp_user_id\"]\n",
    "\n",
    "msg = MIMEText(_text = content, _charset = \"utf-8\")\n",
    "\n",
    "msg['Subject'] = title\n",
    "msg['From'] = sender\n",
    "msg['To'] = receiver\n",
    "\n",
    "send_email(smtp_info, msg)"
   ]
  },
  {
   "cell_type": "code",
   "execution_count": null,
   "id": "f30d2738",
   "metadata": {},
   "outputs": [],
   "source": [
    "# SMTP(Simple Mail Transfer Protocol)\n",
    "\n",
    "POP3 (Post Office Protocol 3), IMAP(Internet Message Access Protocol)의 약자\n",
    "프로토콜이란? 상호 조약 같은 것으로 보면 됩니다. \n",
    "국제 표준 언어가 영어이듯이 서로 다른 언어를 사용하는 녀석들끼리 표준을 만들어 소통을 하기 위함임\n",
    "\n",
    "1. 송신자의 계정으로 로그인 한다(ID, PW 활용)\n",
    "2. 이메일 작성(제목, 내용, 이미지 등등 첨부가 가능)\n",
    "3. send를 통해 이메일 서버에 전송을 요청함\n",
    "4. 이메일 서버거 smtp. pop3, imap 프로토콜을 활용하여 수신자에게 메일을 전송하게 됨 \n"
   ]
  }
 ],
 "metadata": {
  "kernelspec": {
   "display_name": "Python 3",
   "language": "python",
   "name": "python3"
  },
  "language_info": {
   "codemirror_mode": {
    "name": "ipython",
    "version": 3
   },
   "file_extension": ".py",
   "mimetype": "text/x-python",
   "name": "python",
   "nbconvert_exporter": "python",
   "pygments_lexer": "ipython3",
   "version": "3.8.8"
  }
 },
 "nbformat": 4,
 "nbformat_minor": 5
}
