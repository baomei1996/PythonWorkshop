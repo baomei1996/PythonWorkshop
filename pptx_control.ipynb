{
 "cells": [
  {
   "cell_type": "code",
   "execution_count": 1,
   "id": "2b1a8210",
   "metadata": {},
   "outputs": [
    {
     "name": "stdout",
     "output_type": "stream",
     "text": [
      "Collecting python-pptx\n",
      "  Downloading python-pptx-0.6.21.tar.gz (10.1 MB)\n",
      "\u001b[K     |████████████████████████████████| 10.1 MB 9.5 MB/s eta 0:00:01    |███▋                            | 1.1 MB 9.5 MB/s eta 0:00:01\n",
      "\u001b[?25hRequirement already satisfied: lxml>=3.1.0 in /Users/anbomi/opt/anaconda3/lib/python3.8/site-packages (from python-pptx) (4.6.3)\n",
      "Requirement already satisfied: Pillow>=3.3.2 in /Users/anbomi/opt/anaconda3/lib/python3.8/site-packages (from python-pptx) (8.2.0)\n",
      "Requirement already satisfied: XlsxWriter>=0.5.7 in /Users/anbomi/opt/anaconda3/lib/python3.8/site-packages (from python-pptx) (1.3.8)\n",
      "Building wheels for collected packages: python-pptx\n",
      "  Building wheel for python-pptx (setup.py) ... \u001b[?25ldone\n",
      "\u001b[?25h  Created wheel for python-pptx: filename=python_pptx-0.6.21-py3-none-any.whl size=471172 sha256=88998124c851faea6a2cc7c088e441237a739f2fd95924b725747602b05cc6b6\n",
      "  Stored in directory: /Users/anbomi/Library/Caches/pip/wheels/b0/38/58/8530ed1681bfee42349acf166867cc9fb369517b2fce83e599\n",
      "Successfully built python-pptx\n",
      "Installing collected packages: python-pptx\n",
      "Successfully installed python-pptx-0.6.21\n"
     ]
    }
   ],
   "source": [
    "!pip install python-pptx"
   ]
  },
  {
   "cell_type": "code",
   "execution_count": 4,
   "id": "c96b5287",
   "metadata": {},
   "outputs": [],
   "source": [
    "from pptx import Presentation\n",
    "from pptx.util import Inches"
   ]
  },
  {
   "cell_type": "code",
   "execution_count": 5,
   "id": "3f353559",
   "metadata": {},
   "outputs": [],
   "source": [
    "# ppt 객체 생성\n",
    "prs = Presentation()"
   ]
  },
  {
   "cell_type": "code",
   "execution_count": 9,
   "id": "e8191f97",
   "metadata": {},
   "outputs": [],
   "source": [
    "for i in range(0, 11):\n",
    "    title_slide_layout = prs.slide_layouts[i]\n",
    "    slide = prs.slides.add_slide(title_slide_layout)\n",
    "    \n",
    "prs.save('모든슬라이드추가.pptx')"
   ]
  },
  {
   "cell_type": "code",
   "execution_count": 11,
   "id": "71013ae5",
   "metadata": {},
   "outputs": [
    {
     "name": "stdout",
     "output_type": "stream",
     "text": [
      "Array.ipynb                   Untitled1.ipynb\r\n",
      "Class.ipynb                   color\r\n",
      "ControlStatement.ipynb        kakao_msg_api.ipynb\r\n",
      "ControlStatement2.ipynb       operator_overload.ipynb\r\n",
      "ControlStatement3.ipynb       order_test.ipynb\r\n",
      "Data Type.ipynb               python_taste.ipynb\r\n",
      "FileIO.ipynb                  request_success.jpg\r\n",
      "Function(Method).ipynb        \u001b[1m\u001b[36mres\u001b[m\u001b[m\r\n",
      "Homework.ipynb                test\r\n",
      "README.md                     test.txt\r\n",
      "SpringToPythonRequest.ipynb   모든슬라이드추가.pptx\r\n",
      "Untitled.ipynb\r\n"
     ]
    }
   ],
   "source": [
    "!ls"
   ]
  },
  {
   "cell_type": "code",
   "execution_count": 12,
   "id": "a02015bb",
   "metadata": {},
   "outputs": [],
   "source": [
    "del prs"
   ]
  },
  {
   "cell_type": "code",
   "execution_count": 13,
   "id": "9d023b41",
   "metadata": {},
   "outputs": [
    {
     "ename": "NameError",
     "evalue": "name 'prs' is not defined",
     "output_type": "error",
     "traceback": [
      "\u001b[0;31m---------------------------------------------------------------------------\u001b[0m",
      "\u001b[0;31mNameError\u001b[0m                                 Traceback (most recent call last)",
      "\u001b[0;32m<ipython-input-13-80e397a7b1d3>\u001b[0m in \u001b[0;36m<module>\u001b[0;34m\u001b[0m\n\u001b[0;32m----> 1\u001b[0;31m \u001b[0mprint\u001b[0m\u001b[0;34m(\u001b[0m\u001b[0mprs\u001b[0m\u001b[0;34m)\u001b[0m\u001b[0;34m\u001b[0m\u001b[0;34m\u001b[0m\u001b[0m\n\u001b[0m",
      "\u001b[0;31mNameError\u001b[0m: name 'prs' is not defined"
     ]
    }
   ],
   "source": [
    "print(prs)"
   ]
  },
  {
   "cell_type": "code",
   "execution_count": 14,
   "id": "81682a2d",
   "metadata": {},
   "outputs": [],
   "source": [
    "prs = Presentation()\n",
    "\n",
    "title_slide_layout = prs.slide_layouts[0]\n",
    "slide = prs.slides.add_slide(title_slide_layout)\n",
    "\n",
    "# 제목 \n",
    "title = slide.placeholders[0]\n",
    "title.text = 'Hello, Python Based PPTX!'\n",
    "\n",
    "#부제목\n",
    "# 즉 제목은 palceholders[0], 부제목은 [1]\n",
    "title = slide.placeholders[1]\n",
    "title.text = 'Python-pptx를 사용해서 PPT를 만들기'\n",
    "\n",
    "prs.save('test.pptx')"
   ]
  },
  {
   "cell_type": "code",
   "execution_count": 15,
   "id": "c92daf13",
   "metadata": {},
   "outputs": [],
   "source": [
    "del prs"
   ]
  },
  {
   "cell_type": "code",
   "execution_count": 21,
   "id": "b980b48e",
   "metadata": {},
   "outputs": [],
   "source": [
    "prs = Presentation()\n",
    "\n",
    "title_slide_layout = prs.slide_layouts[0]\n",
    "slide = prs.slides.add_slide(title_slide_layout)\n",
    "\n",
    "# 제목\n",
    "title = slide.placeholders[0]\n",
    "title.text = \"python-pptx를 사용해서 PPT 만들기\"\n",
    "\n",
    "# 부제목\n",
    "# 즉 제목은 placeholders[0], 부제목은 [1]\n",
    "subtitle = slide.placeholders[1]\n",
    "subtitle.text = \"python-pptx로 단락(paragraph) 만들기\"\n",
    "\n",
    "# 두 번째 슬라이드\n",
    "bullet_slide_layout = prs.slide_layouts[1]\n",
    "slide = prs.slides.add_slide(bullet_slide_layout)\n",
    "\n",
    "# 마찬가지로 [0] - 제목\n",
    "title_shape = slide.placeholders[0]\n",
    "title_shape.text = '문단 추가하기!'\n",
    "\n",
    "# 부제목인데 여기서는 내용물 작성하는 용도로 활용\n",
    "body_shape = slide.placeholders[1]\n",
    "# 글자 적는 공간이라고 알랴줌(text_frame)\n",
    "tf = body_shape.text_frame\n",
    "tf.text = '요렇게 글자를 추가합니다'\n",
    "\n",
    "# 새로운 문단 추가!\n",
    "p = tf.add_paragraph()\n",
    "p.text = '그 아래에 추가 문단이 들어갑니다.'\n",
    "# 들여쓰기\n",
    "p.level = 1\n",
    "\n",
    "p = tf.add_paragraph()\n",
    "p.text = '하나 더 추가해봅니다.'\n",
    "p.level = 2\n",
    "\n",
    "prs.save('글자쓰기.pptx')\n"
   ]
  },
  {
   "cell_type": "code",
   "execution_count": 22,
   "id": "3565f0cf",
   "metadata": {},
   "outputs": [],
   "source": [
    "del prs"
   ]
  },
  {
   "cell_type": "code",
   "execution_count": 23,
   "id": "6f4b0239",
   "metadata": {},
   "outputs": [],
   "source": [
    "\n",
    "prs = Presentation()\n",
    "\n",
    "title_slide_layout = prs.slide_layouts[0]\n",
    "slide = prs.slides.add_slide(title_slide_layout)\n",
    "\n",
    "# 제목\n",
    "title = slide.placeholders[0]\n",
    "title.text = \"python-pptx로 사진 넣기!\"\n",
    "\n",
    "# 부제목\n",
    "# 즉 제목은 placeholders[0], 부제목은 [1]\n",
    "subtitle = slide.placeholders[1]\n",
    "subtitle.text = \"이게 되네 ?\"\n",
    "\n",
    "img_path = \"res/ppt/bonobono.jpeg\"\n",
    "\n",
    "# 6번이 아까 빈 슬라이드였음\n",
    "img_slide_layout = prs.slide_layouts[6]\n",
    "slide = prs.slides.add_slide(img_slide_layout)\n",
    "\n",
    "left = top = Inches(1)\n",
    "width = height = Inches(1)\n",
    "\n",
    "pic = slide.shapes.add_picture(img_path, left, top, width=width, height=height)\n",
    "\n",
    "left = Inches(3)\n",
    "width = Inches(5.5)\n",
    "height = Inches(4)\n",
    "pic = slide.shapes.add_picture(img_path, left, top, width=width, height=height)\n",
    "\n",
    "prs.save('이미지.pptx')\n"
   ]
  },
  {
   "cell_type": "code",
   "execution_count": 24,
   "id": "46ef5343",
   "metadata": {},
   "outputs": [],
   "source": [
    "del prs"
   ]
  },
  {
   "cell_type": "code",
   "execution_count": 27,
   "id": "7fd1b66e",
   "metadata": {},
   "outputs": [],
   "source": [
    "\n",
    "prs = Presentation()\n",
    "\n",
    "title_slide_layout = prs.slide_layouts[0]\n",
    "slide = prs.slides.add_slide(title_slide_layout)\n",
    "\n",
    "# 제목\n",
    "title = slide.placeholders[0]\n",
    "title.text = \"python-pptx로 표 만들기!\"\n",
    "\n",
    "# 부제목\n",
    "# 즉 제목은 placeholders[0], 부제목은 [1]\n",
    "subtitle = slide.placeholders[1]\n",
    "subtitle.text = \"사실상 요게 핵심!\"\n",
    "\n",
    "# 5번이 표 양식임\n",
    "table_slide_layout = prs.slide_layouts[5]\n",
    "slide = prs.slides.add_slide(table_slide_layout)\n",
    "shapes = slide.shapes\n",
    "\n",
    "title_shape = slide.placeholders[0]\n",
    "title_shape.text = '표 추가하기'\n",
    "\n",
    "rows = cols = 2\n",
    "left = top = Inches(2)\n",
    "width = Inches(6)\n",
    "height = Inches(0.8)\n",
    "\n",
    "table = shapes.add_table(rows, cols, left, top, width, height).table\n",
    "\n",
    "# 열의 폭\n",
    "table.columns[0].width = Inches(2)\n",
    "table.columns[1].width = Inches(4)\n",
    "\n",
    "# 열의 제목\n",
    "table.cell(0, 0).text = '요기'\n",
    "table.cell(0, 1).text = '조기'\n",
    "\n",
    "# 셀 내용\n",
    "table.cell(1, 0).text = '와리'\n",
    "table.cell(1, 1).text = '가리'\n",
    "\n",
    "prs.save('이거시표다.pptx')"
   ]
  },
  {
   "cell_type": "code",
   "execution_count": null,
   "id": "6e0d6ecd",
   "metadata": {},
   "outputs": [],
   "source": []
  }
 ],
 "metadata": {
  "kernelspec": {
   "display_name": "Python 3",
   "language": "python",
   "name": "python3"
  },
  "language_info": {
   "codemirror_mode": {
    "name": "ipython",
    "version": 3
   },
   "file_extension": ".py",
   "mimetype": "text/x-python",
   "name": "python",
   "nbconvert_exporter": "python",
   "pygments_lexer": "ipython3",
   "version": "3.8.8"
  }
 },
 "nbformat": 4,
 "nbformat_minor": 5
}
