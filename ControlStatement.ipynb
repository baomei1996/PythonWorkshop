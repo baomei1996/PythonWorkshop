{
 "cells": [
  {
   "cell_type": "code",
   "execution_count": 2,
   "id": "ef63599d",
   "metadata": {
    "scrolled": true
   },
   "outputs": [
    {
     "name": "stdout",
     "output_type": "stream",
     "text": [
      "val is bigger than 5\n"
     ]
    }
   ],
   "source": [
    "val = 10\n",
    "\n",
    "if val > 5:\n",
    "    print('val is bigger than 5')"
   ]
  },
  {
   "cell_type": "code",
   "execution_count": 3,
   "id": "daec1782",
   "metadata": {},
   "outputs": [
    {
     "name": "stdout",
     "output_type": "stream",
     "text": [
      "val is bigger than 5\n"
     ]
    }
   ],
   "source": [
    "val = 1\n",
    "#tab이 중요\n",
    "\n",
    "if val > 5:\n",
    "    print('test')\n",
    "print('val is bigger than 5')"
   ]
  },
  {
   "cell_type": "code",
   "execution_count": null,
   "id": "c6739fb0",
   "metadata": {
    "scrolled": true
   },
   "outputs": [],
   "source": [
    "money = 10\n",
    "\n",
    "if money > 100: \n",
    "    item = 'apple'\n",
    "else: \n",
    "    item = 'banana'\n",
    "\n",
    "print(item)"
   ]
  }
 ],
 "metadata": {
  "kernelspec": {
   "display_name": "Python 3",
   "language": "python",
   "name": "python3"
  },
  "language_info": {
   "codemirror_mode": {
    "name": "ipython",
    "version": 3
   },
   "file_extension": ".py",
   "mimetype": "text/x-python",
   "name": "python",
   "nbconvert_exporter": "python",
   "pygments_lexer": "ipython3",
   "version": "3.8.8"
  }
 },
 "nbformat": 4,
 "nbformat_minor": 5
}
