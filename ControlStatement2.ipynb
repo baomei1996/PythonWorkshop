{
 "cells": [
  {
   "cell_type": "code",
   "execution_count": null,
   "id": "9d553f57",
   "metadata": {},
   "outputs": [],
   "source": [
    "print('hello')"
   ]
  },
  {
   "cell_type": "code",
   "execution_count": 43,
   "id": "6659b7c9",
   "metadata": {},
   "outputs": [
    {
     "name": "stdout",
     "output_type": "stream",
     "text": [
      "input score: 80\n",
      "점수 통보! 등급 = B\n"
     ]
    }
   ],
   "source": [
    "score = int(input(('input score: ')))\n",
    "\n",
    "if 90 <= score <= 100: \n",
    "    grade = 'A'\n",
    "elif 80 <= score < 90:\n",
    "    grade = 'B'\n",
    "elif 70 <= score < 80:\n",
    "    grade = 'C'\n",
    "elif 60 <= score < 70:\n",
    "    grade = 'D'\n",
    "else: \n",
    "    grade = 'F'\n",
    "    \n",
    "print(\"점수 통보! 등급 = \" + grade)"
   ]
  },
  {
   "cell_type": "code",
   "execution_count": 44,
   "id": "e4da4556",
   "metadata": {},
   "outputs": [
    {
     "name": "stdout",
     "output_type": "stream",
     "text": [
      "Math score: 70\n",
      "English score: 60\n",
      "History score: 80\n",
      "합불 결과는! = 합격총 평균은 = 70.0\n"
     ]
    }
   ],
   "source": [
    "math = int(input(('Math score: ')))\n",
    "english = int(input(('English score: ')))\n",
    "history = int(input(('History score: ')))\n",
    "\n",
    "evg = (math + english + history) / 3\n",
    "\n",
    "if evg > 60:\n",
    "    if math > 50:\n",
    "        if english > 50:\n",
    "            if history > 50:\n",
    "                res = '합격'\n",
    "    else: \n",
    "        res = '불합격'\n",
    "else: \n",
    "    res = '불합격'\n",
    "    \n",
    "print('합불 결과는! = ' + res + '총 평균은 = ' + str(evg))\n"
   ]
  },
  {
   "cell_type": "code",
   "execution_count": 50,
   "id": "8235b5f6",
   "metadata": {},
   "outputs": [
    {
     "name": "stdout",
     "output_type": "stream",
     "text": [
      "5\n",
      "4\n",
      "3\n",
      "2\n",
      "1\n"
     ]
    }
   ],
   "source": [
    "val = 5\n",
    "\n",
    "while val > 0:\n",
    "    print(val)\n",
    "    val -= 1"
   ]
  },
  {
   "cell_type": "code",
   "execution_count": 56,
   "id": "2d5844c3",
   "metadata": {},
   "outputs": [
    {
     "name": "stdout",
     "output_type": "stream",
     "text": [
      "['Apple', 100, 15.33]\n",
      "Apple <class 'str'>\n",
      "100 <class 'int'>\n",
      "15.33 <class 'float'>\n"
     ]
    }
   ],
   "source": [
    "lists = ['Apple', 100, 15.33]\n",
    "\n",
    "print(lists)\n",
    "\n",
    "for i in list:\n",
    "    print(i, type(i))"
   ]
  },
  {
   "cell_type": "code",
   "execution_count": 52,
   "id": "83ad3a13",
   "metadata": {},
   "outputs": [
    {
     "name": "stdout",
     "output_type": "stream",
     "text": [
      "item: 1\n",
      "item: 2\n",
      "item: 3\n",
      "item: 4\n",
      "item: 5\n"
     ]
    }
   ],
   "source": [
    "numList = [1, 2, 3, 4, 5, 6, 7, 8, 9, 10]\n",
    "\n",
    "for i in numList: \n",
    "    if i > 5:\n",
    "        break\n",
    "    print(\"item: {0}\".format(i))"
   ]
  },
  {
   "cell_type": "code",
   "execution_count": 53,
   "id": "629f2f9d",
   "metadata": {},
   "outputs": [
    {
     "name": "stdout",
     "output_type": "stream",
     "text": [
      "item: 1\n",
      "item: 3\n",
      "item: 5\n",
      "item: 7\n",
      "item: 9\n"
     ]
    }
   ],
   "source": [
    "for i in numList: \n",
    "    if i % 2 == 0:\n",
    "        continue\n",
    "    print(\"item: {0}\".format(i))"
   ]
  }
 ],
 "metadata": {
  "kernelspec": {
   "display_name": "Python 3",
   "language": "python",
   "name": "python3"
  },
  "language_info": {
   "codemirror_mode": {
    "name": "ipython",
    "version": 3
   },
   "file_extension": ".py",
   "mimetype": "text/x-python",
   "name": "python",
   "nbconvert_exporter": "python",
   "pygments_lexer": "ipython3",
   "version": "3.8.8"
  }
 },
 "nbformat": 4,
 "nbformat_minor": 5
}
