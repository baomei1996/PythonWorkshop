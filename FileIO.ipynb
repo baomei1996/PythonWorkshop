{
 "cells": [
  {
   "cell_type": "code",
   "execution_count": 1,
   "id": "9acb880e",
   "metadata": {},
   "outputs": [
    {
     "name": "stdout",
     "output_type": "stream",
     "text": [
      "Array.ipynb             Data Type.ipynb         python_taste.ipynb\r\n",
      "ControlStatement.ipynb  FileIO.ipynb            request_success.jpg\r\n",
      "ControlStatement2.ipynb Function(Method).ipynb  test.txt\r\n",
      "ControlStatement3.ipynb README.md\r\n"
     ]
    }
   ],
   "source": [
    "!ls"
   ]
  },
  {
   "cell_type": "code",
   "execution_count": 10,
   "id": "1cb07a00",
   "metadata": {},
   "outputs": [
    {
     "name": "stdout",
     "output_type": "stream",
     "text": [
      "51\n"
     ]
    }
   ],
   "source": [
    "f = open('test.txt', 'w')\n",
    "\n",
    "print(f.write('Python Basic Programming for interconnect with Web!'))\n",
    "f.close()"
   ]
  },
  {
   "cell_type": "code",
   "execution_count": 4,
   "id": "50e7ff1c",
   "metadata": {},
   "outputs": [
    {
     "name": "stdout",
     "output_type": "stream",
     "text": [
      "\r\n",
      "OPEN(1)                   BSD General Commands Manual                  OPEN(1)\r\n",
      "\r\n",
      "N\bNA\bAM\bME\bE\r\n",
      "     o\bop\bpe\ben\bn -- open files and directories\r\n",
      "\r\n",
      "S\bSY\bYN\bNO\bOP\bPS\bSI\bIS\bS\r\n",
      "     o\bop\bpe\ben\bn [-\b-e\be] [-\b-t\bt] [-\b-f\bf] [-\b-F\bF] [-\b-W\bW] [-\b-R\bR] [-\b-n\bn] [-\b-g\bg] [-\b-j\bj] [-\b-h\bh] [-\b-s\bs _\bs_\bd_\bk]\r\n",
      "          [-\b-b\bb _\bb_\bu_\bn_\bd_\bl_\be_\b__\bi_\bd_\be_\bn_\bt_\bi_\bf_\bi_\be_\br] [-\b-a\ba _\ba_\bp_\bp_\bl_\bi_\bc_\ba_\bt_\bi_\bo_\bn] [-\b--\b-e\ben\bnv\bv _\bV_\bA_\bR] [-\b--\b-s\bst\btd\bde\ber\brr\br _\bP_\bA_\bT_\bH]\r\n",
      "          [-\b--\b-s\bst\btd\bdi\bin\bn _\bP_\bA_\bT_\bH] [-\b--\b-s\bst\btd\bdo\bou\but\bt _\bP_\bA_\bT_\bH] _\bf_\bi_\bl_\be _\b._\b._\b. [-\b--\b-a\bar\brg\bgs\bs _\ba_\br_\bg_\b1 _\b._\b._\b.]\r\n",
      "\r\n",
      "D\bDE\bES\bSC\bCR\bRI\bIP\bPT\bTI\bIO\bON\bN\r\n",
      "     The o\bop\bpe\ben\bn command opens a file (or a directory or URL), just as if you had\r\n",
      "     double-clicked the file's icon. If no application name is specified, the\r\n",
      "     default application as determined via LaunchServices is used to open the\r\n",
      "     specified files.\r\n",
      "\r\n",
      "     If the file is in the form of a URL, the file will be opened as a URL.\r\n",
      "\r\n",
      "     You can specify one or more file names (or pathnames), which are inter-\r\n",
      "     preted relative to the shell or Terminal window's current working direc-\r\n",
      "     tory. For example, the following command would open all Word files in the\r\n",
      "     current working directory:\r\n",
      "\r\n",
      "     open *.doc\r\n",
      "\r\n",
      "     Opened applications inherit environment variables just as if you had\r\n",
      "     launched the application directly through its full path.  This behavior\r\n",
      "     was also present in Tiger.\r\n",
      "\r\n",
      "     The options are as follows:\r\n",
      "\r\n",
      "     -\b-a\ba a\bap\bpp\bpl\bli\bic\bca\bat\bti\bio\bon\bn\r\n",
      "         Specifies the application to use for opening the file\r\n",
      "\r\n",
      "     -\b-b\bb b\bbu\bun\bnd\bdl\ble\be_\b_i\bid\bde\ben\bnt\bti\bif\bfi\bie\ber\br\r\n",
      "         Specifies the bundle identifier for the application to use when open-\r\n",
      "         ing the file\r\n",
      "\r\n",
      "     -\b-e\be  Causes the file to be opened with /Applications/TextEdit\r\n",
      "\r\n",
      "     -\b-t\bt  Causes the file to be opened with the default text editor, as deter-\r\n",
      "         mined via LaunchServices\r\n",
      "\r\n",
      "     -\b-f\bf  Reads input from standard input and opens the results in the default\r\n",
      "         text editor.  End input by sending EOF character (type Control-D).\r\n",
      "         Also useful for piping output to o\bop\bpe\ben\bn and having it open in the\r\n",
      "         default text editor.\r\n",
      "\r\n",
      "     -\b-F\bF  Opens the application \"fresh,\" that is, without restoring windows.\r\n",
      "         Saved persistent state is lost, except for Untitled documents.\r\n",
      "\r\n",
      "     -\b-W\bW  Causes o\bop\bpe\ben\bn to wait until the applications it opens (or that were\r\n",
      "         already open) have exited.  Use with the -\b-n\bn flag to allow o\bop\bpe\ben\bn to\r\n",
      "         function as an appropriate app for the $\b$E\bED\bDI\bIT\bTO\bOR\bR environment variable.\r\n",
      "\r\n",
      "     -\b-R\bR  Reveals the file(s) in the Finder instead of opening them.\r\n",
      "\r\n",
      "     -\b-n\bn  Open a new instance of the application(s) even if one is already run-\r\n",
      "         ning.\r\n",
      "\r\n",
      "     -\b-g\bg  Do not bring the application to the foreground.\r\n",
      "\r\n",
      "     -\b-j\bj  Launches the app hidden.\r\n",
      "\r\n",
      "     -\b-h\bh  Searches header locations for a header whose name matches the given\r\n",
      "         string and then opens it.  Pass a full header name (such as NSView.h)\r\n",
      "         for increased performance.\r\n",
      "\r\n",
      "     -\b-s\bs  For -h, partial or full SDK name to use; if supplied, only SDKs whose\r\n",
      "         names contain the argument value are searched. Otherwise the highest\r\n",
      "         versioned SDK in each platform is used.\r\n",
      "\r\n",
      "     -\b--\b-a\bar\brg\bgs\bs\r\n",
      "         All remaining arguments are passed to the opened application in the\r\n",
      "         argv parameter to main().  These arguments are not opened or inter-\r\n",
      "         preted by the o\bop\bpe\ben\bn tool.\r\n",
      "\r\n",
      "     -\b--\b-e\ben\bnv\bv _\bV_\bA_\bR\r\n",
      "         Adds _\bV_\bA_\bR to the environment of the launched application.  _\bV_\bA_\bR should\r\n",
      "         be formatted NAME=VALUE or NAME.\r\n",
      "\r\n",
      "     -\b--\b-s\bst\btd\bdi\bin\bn _\bP_\bA_\bT_\bH\r\n",
      "         Launches the application with stdin connected to _\bP_\bA_\bT_\bH.\r\n",
      "\r\n",
      "     -\b--\b-s\bst\btd\bdo\bou\but\bt _\bP_\bA_\bT_\bH\r\n",
      "         Launches the application with stdout connected to _\bP_\bA_\bT_\bH.\r\n",
      "\r",
      "\r\n",
      "     -\b--\b-s\bst\btd\bde\ber\brr\br _\bP_\bA_\bT_\bH\r\n",
      "         Launches the application with stderr connected to _\bP_\bA_\bT_\bH.\r\n",
      "\r\n",
      "E\bEX\bXA\bAM\bMP\bPL\bLE\bES\bS\r\n",
      "     \"open '/Volumes/Macintosh HD/foo.txt'\" opens the document in the default\r\n",
      "     application for its type (as determined by LaunchServices).\r\n",
      "\r\n",
      "     \"open '/Volumes/Macintosh HD/Applications/'\" opens that directory in the\r\n",
      "     Finder.\r\n",
      "\r\n",
      "     \"open -a /Applications/TextEdit.app '/Volumes/Macintosh HD/foo.txt'\"\r\n",
      "     opens the document in the application specified (in this case, TextEdit).\r\n",
      "\r\n",
      "     \"open -b com.apple.TextEdit '/Volumes/Macintosh HD/foo.txt'\" opens the\r\n",
      "     document in the application specified (in this case, TextEdit).\r\n",
      "\r\n",
      "     \"open -e '/Volumes/Macintosh HD/foo.txt'\" opens the document in TextEdit.\r\n",
      "\r\n",
      "     \"ls | open -f\" writes the output of the 'ls' command to a file in /tmp\r\n",
      "     and opens the file in the default text editor (as determined by Launch-\r\n",
      "     Services).\r\n",
      "\r\n",
      "     \"open http://www.apple.com/\" opens the URL in the default browser.\r",
      "\r\n",
      "\r\n",
      "     \"open 'file://localhost/Volumes/Macintosh HD/foo.txt'\" opens the document\r\n",
      "     in the default application for its type (as determined by LaunchSer-\r\n",
      "     vices).\r\n",
      "\r\n",
      "     \"open 'file://localhost/Volumes/Macintosh HD/Applications/'\" opens that\r\n",
      "     directory in the Finder.\r\n",
      "\r\n",
      "     \"open -h NSView\" lists headers whose names contain NSView and allows you\r\n",
      "     to choose which ones to open.\r\n",
      "\r\n",
      "     \"open -h NSView.h\" immediately opens NSView.h.\r\n",
      "\r\n",
      "     \"open --env MallocStackLogging=YES -b com.apple.TextEdit\" launches TextE-\r\n",
      "     dit with the environment variable \"MallocStackLogging\" set to \"YES\"\r\n",
      "\r\n",
      "     \"open -h NSView -s OSX10.12\" lists headers whose names contain NSView in\r\n",
      "     the MacOSX 10.12 SDK and allows you to choose which ones to open.\r\n",
      "\r\n",
      "H\bHI\bIS\bST\bTO\bOR\bRY\bY\r\n",
      "     First appeared in NextStep.\r\n",
      "\r\n",
      "macOS                           April 14, 2017                           macOS\r\n"
     ]
    }
   ],
   "source": [
    "!man open"
   ]
  },
  {
   "cell_type": "code",
   "execution_count": 7,
   "id": "4607506d",
   "metadata": {},
   "outputs": [
    {
     "name": "stdout",
     "output_type": "stream",
     "text": [
      "Array.ipynb             Data Type.ipynb         python_taste.ipynb\r\n",
      "ControlStatement.ipynb  FileIO.ipynb            request_success.jpg\r\n",
      "ControlStatement2.ipynb Function(Method).ipynb  test.txt\r\n",
      "ControlStatement3.ipynb README.md\r\n"
     ]
    }
   ],
   "source": [
    "!ls"
   ]
  },
  {
   "cell_type": "code",
   "execution_count": 12,
   "id": "270e3456",
   "metadata": {},
   "outputs": [
    {
     "name": "stdout",
     "output_type": "stream",
     "text": [
      "test.txt not found\r\n"
     ]
    }
   ],
   "source": [
    "!type test.txt"
   ]
  },
  {
   "cell_type": "code",
   "execution_count": 13,
   "id": "b95cdd5f",
   "metadata": {},
   "outputs": [
    {
     "name": "stdout",
     "output_type": "stream",
     "text": [
      "Python Basic Programming for interconnect with Web!\n",
      "True\n"
     ]
    }
   ],
   "source": [
    "# Unix 핵심 철학\n",
    "# 모든것은 파일이다. \n",
    "f = open('test.txt')\n",
    "print(f.read())\n",
    "f.close()\n",
    "print(f.closed)"
   ]
  },
  {
   "cell_type": "code",
   "execution_count": 14,
   "id": "879d513c",
   "metadata": {},
   "outputs": [
    {
     "name": "stdout",
     "output_type": "stream",
     "text": [
      "['Python Basic Programming for interconnect with Web!']\n",
      "False\n",
      "True\n"
     ]
    }
   ],
   "source": [
    "with open('test.txt') as f:\n",
    "    print(f.readlines())\n",
    "    print(f.closed)\n",
    "    \n",
    "print(f.closed)"
   ]
  },
  {
   "cell_type": "code",
   "execution_count": 16,
   "id": "eddad3f9",
   "metadata": {},
   "outputs": [
    {
     "name": "stdout",
     "output_type": "stream",
     "text": [
      "['Python Basic Programming for interconnect with Web!\\n', 'Test\\n', 'Enter\\n', 'Success!']\n",
      "False\n",
      "True\n"
     ]
    }
   ],
   "source": [
    "with open('test.txt') as f:\n",
    "    print(f.readlines())\n",
    "    print(f.closed)\n",
    "    \n",
    "print(f.closed)"
   ]
  },
  {
   "cell_type": "code",
   "execution_count": 17,
   "id": "2a4990fc",
   "metadata": {},
   "outputs": [
    {
     "name": "stdout",
     "output_type": "stream",
     "text": [
      "['red', 'green', 'blue']\n"
     ]
    }
   ],
   "source": [
    "colors = ['red', 'green', 'blue']\n",
    "print(colors)"
   ]
  },
  {
   "cell_type": "code",
   "execution_count": 18,
   "id": "67bceacc",
   "metadata": {},
   "outputs": [
    {
     "name": "stdout",
     "output_type": "stream",
     "text": [
      "True\n"
     ]
    }
   ],
   "source": [
    "def chk_colors():\n",
    "    if 'colors' in globals():\n",
    "        print('True')\n",
    "    else:\n",
    "        print('False')\n",
    "\n",
    "chk_colors()"
   ]
  },
  {
   "cell_type": "code",
   "execution_count": 19,
   "id": "be523506",
   "metadata": {},
   "outputs": [
    {
     "data": {
      "text/plain": [
       "{'__name__': '__main__',\n",
       " '__doc__': 'Automatically created module for IPython interactive environment',\n",
       " '__package__': None,\n",
       " '__loader__': None,\n",
       " '__spec__': None,\n",
       " '__builtin__': <module 'builtins' (built-in)>,\n",
       " '__builtins__': <module 'builtins' (built-in)>,\n",
       " '_ih': ['',\n",
       "  \"get_ipython().system('ls')\",\n",
       "  \"f = open('test.txt', 'w')\\n\\nprint(f.write('Python Basic Programming for interconnect with Web!'))\",\n",
       "  \"get_ipython().system('type test.txt')\",\n",
       "  \"get_ipython().system('man open')\",\n",
       "  \"f = open('test.txt', 'w')\\n\\nprint(f.write('Python Basic Programming for interconnect with Web!'))\\nf.colse()\",\n",
       "  \"f = open('test.txt', 'w')\\n\\nprint(f.write('Python Basic Programming for interconnect with Web!'))\\nf.close()\",\n",
       "  \"get_ipython().system('ls')\",\n",
       "  \"get_ipython().system('type test.txt')\",\n",
       "  \"f = open('test.txt', 'w')\\n\\nprint(f.write('Python Basic Programming for interconnect with Web!'))\\nf.close()\",\n",
       "  \"f = open('test.txt', 'w')\\n\\nprint(f.write('Python Basic Programming for interconnect with Web!'))\\nf.close()\",\n",
       "  \"get_ipython().system('type test.txt')\",\n",
       "  \"get_ipython().system('type test.txt')\",\n",
       "  \"f = open('test.txt')\\nprint(f.read())\\nf.close()\\nprint(f.closed)\",\n",
       "  \"with open('test.txt') as f:\\n    print(f.readlines())\\n    print(f.closed)\\n    \\nprint(f.closed)\",\n",
       "  \"get_ipython().system('type test.txt')\",\n",
       "  \"with open('test.txt') as f:\\n    print(f.readlines())\\n    print(f.closed)\\n    \\nprint(f.closed)\",\n",
       "  \"colors = ['red', 'green', 'blue']\\nprint(colors)\",\n",
       "  \"def chk_colors():\\n    if 'colors' in globals():\\n        print('True')\\n    else:\\n        print('False')\\n\\nchk_colors()\",\n",
       "  'globals()'],\n",
       " '_oh': {},\n",
       " '_dh': ['/Users/anbomi/python_works/PythonWorkshop'],\n",
       " 'In': ['',\n",
       "  \"get_ipython().system('ls')\",\n",
       "  \"f = open('test.txt', 'w')\\n\\nprint(f.write('Python Basic Programming for interconnect with Web!'))\",\n",
       "  \"get_ipython().system('type test.txt')\",\n",
       "  \"get_ipython().system('man open')\",\n",
       "  \"f = open('test.txt', 'w')\\n\\nprint(f.write('Python Basic Programming for interconnect with Web!'))\\nf.colse()\",\n",
       "  \"f = open('test.txt', 'w')\\n\\nprint(f.write('Python Basic Programming for interconnect with Web!'))\\nf.close()\",\n",
       "  \"get_ipython().system('ls')\",\n",
       "  \"get_ipython().system('type test.txt')\",\n",
       "  \"f = open('test.txt', 'w')\\n\\nprint(f.write('Python Basic Programming for interconnect with Web!'))\\nf.close()\",\n",
       "  \"f = open('test.txt', 'w')\\n\\nprint(f.write('Python Basic Programming for interconnect with Web!'))\\nf.close()\",\n",
       "  \"get_ipython().system('type test.txt')\",\n",
       "  \"get_ipython().system('type test.txt')\",\n",
       "  \"f = open('test.txt')\\nprint(f.read())\\nf.close()\\nprint(f.closed)\",\n",
       "  \"with open('test.txt') as f:\\n    print(f.readlines())\\n    print(f.closed)\\n    \\nprint(f.closed)\",\n",
       "  \"get_ipython().system('type test.txt')\",\n",
       "  \"with open('test.txt') as f:\\n    print(f.readlines())\\n    print(f.closed)\\n    \\nprint(f.closed)\",\n",
       "  \"colors = ['red', 'green', 'blue']\\nprint(colors)\",\n",
       "  \"def chk_colors():\\n    if 'colors' in globals():\\n        print('True')\\n    else:\\n        print('False')\\n\\nchk_colors()\",\n",
       "  'globals()'],\n",
       " 'Out': {},\n",
       " 'get_ipython': <bound method InteractiveShell.get_ipython of <ipykernel.zmqshell.ZMQInteractiveShell object at 0x7f9fec1767c0>>,\n",
       " 'exit': <IPython.core.autocall.ZMQExitAutocall at 0x7f9fec30df70>,\n",
       " 'quit': <IPython.core.autocall.ZMQExitAutocall at 0x7f9fec30df70>,\n",
       " '_': '',\n",
       " '__': '',\n",
       " '___': '',\n",
       " '_i': \"def chk_colors():\\n    if 'colors' in globals():\\n        print('True')\\n    else:\\n        print('False')\\n\\nchk_colors()\",\n",
       " '_ii': \"colors = ['red', 'green', 'blue']\\nprint(colors)\",\n",
       " '_iii': \"with open('test.txt') as f:\\n    print(f.readlines())\\n    print(f.closed)\\n    \\nprint(f.closed)\",\n",
       " '_i1': '!ls',\n",
       " '_exit_code': 1,\n",
       " '_i2': \"f = open('test.txt', 'w')\\n\\nprint(f.write('Python Basic Programming for interconnect with Web!'))\",\n",
       " 'f': <_io.TextIOWrapper name='test.txt' mode='r' encoding='UTF-8'>,\n",
       " '_i3': '!type test.txt',\n",
       " '_i4': '!man open',\n",
       " '_i5': \"f = open('test.txt', 'w')\\n\\nprint(f.write('Python Basic Programming for interconnect with Web!'))\\nf.colse()\",\n",
       " '_i6': \"f = open('test.txt', 'w')\\n\\nprint(f.write('Python Basic Programming for interconnect with Web!'))\\nf.close()\",\n",
       " '_i7': '!ls',\n",
       " '_i8': '!type test.txt',\n",
       " '_i9': \"f = open('test.txt', 'w')\\n\\nprint(f.write('Python Basic Programming for interconnect with Web!'))\\nf.close()\",\n",
       " '_i10': \"f = open('test.txt', 'w')\\n\\nprint(f.write('Python Basic Programming for interconnect with Web!'))\\nf.close()\",\n",
       " '_i11': '!type test.txt',\n",
       " '_i12': '!type test.txt',\n",
       " '_i13': \"f = open('test.txt')\\nprint(f.read())\\nf.close()\\nprint(f.closed)\",\n",
       " '_i14': \"with open('test.txt') as f:\\n    print(f.readlines())\\n    print(f.closed)\\n    \\nprint(f.closed)\",\n",
       " '_i15': '!type test.txt',\n",
       " '_i16': \"with open('test.txt') as f:\\n    print(f.readlines())\\n    print(f.closed)\\n    \\nprint(f.closed)\",\n",
       " '_i17': \"colors = ['red', 'green', 'blue']\\nprint(colors)\",\n",
       " 'colors': ['red', 'green', 'blue'],\n",
       " '_i18': \"def chk_colors():\\n    if 'colors' in globals():\\n        print('True')\\n    else:\\n        print('False')\\n\\nchk_colors()\",\n",
       " 'chk_colors': <function __main__.chk_colors()>,\n",
       " '_i19': 'globals()'}"
      ]
     },
     "execution_count": 19,
     "metadata": {},
     "output_type": "execute_result"
    }
   ],
   "source": [
    "globals()"
   ]
  },
  {
   "cell_type": "code",
   "execution_count": 20,
   "id": "f5c14d93",
   "metadata": {},
   "outputs": [
    {
     "name": "stdout",
     "output_type": "stream",
     "text": [
      "False\n"
     ]
    }
   ],
   "source": [
    "import pickle\n",
    "\n",
    "f = open('color', 'wb')\n",
    "\n",
    "pickle.dump(colors, f)\n",
    "\n",
    "del colors\n",
    "\n",
    "chk_colors()"
   ]
  },
  {
   "cell_type": "code",
   "execution_count": 21,
   "id": "d0a2bbad",
   "metadata": {},
   "outputs": [
    {
     "data": {
      "text/plain": [
       "{'__name__': '__main__',\n",
       " '__doc__': 'Automatically created module for IPython interactive environment',\n",
       " '__package__': None,\n",
       " '__loader__': None,\n",
       " '__spec__': None,\n",
       " '__builtin__': <module 'builtins' (built-in)>,\n",
       " '__builtins__': <module 'builtins' (built-in)>,\n",
       " '_ih': ['',\n",
       "  \"get_ipython().system('ls')\",\n",
       "  \"f = open('test.txt', 'w')\\n\\nprint(f.write('Python Basic Programming for interconnect with Web!'))\",\n",
       "  \"get_ipython().system('type test.txt')\",\n",
       "  \"get_ipython().system('man open')\",\n",
       "  \"f = open('test.txt', 'w')\\n\\nprint(f.write('Python Basic Programming for interconnect with Web!'))\\nf.colse()\",\n",
       "  \"f = open('test.txt', 'w')\\n\\nprint(f.write('Python Basic Programming for interconnect with Web!'))\\nf.close()\",\n",
       "  \"get_ipython().system('ls')\",\n",
       "  \"get_ipython().system('type test.txt')\",\n",
       "  \"f = open('test.txt', 'w')\\n\\nprint(f.write('Python Basic Programming for interconnect with Web!'))\\nf.close()\",\n",
       "  \"f = open('test.txt', 'w')\\n\\nprint(f.write('Python Basic Programming for interconnect with Web!'))\\nf.close()\",\n",
       "  \"get_ipython().system('type test.txt')\",\n",
       "  \"get_ipython().system('type test.txt')\",\n",
       "  \"f = open('test.txt')\\nprint(f.read())\\nf.close()\\nprint(f.closed)\",\n",
       "  \"with open('test.txt') as f:\\n    print(f.readlines())\\n    print(f.closed)\\n    \\nprint(f.closed)\",\n",
       "  \"get_ipython().system('type test.txt')\",\n",
       "  \"with open('test.txt') as f:\\n    print(f.readlines())\\n    print(f.closed)\\n    \\nprint(f.closed)\",\n",
       "  \"colors = ['red', 'green', 'blue']\\nprint(colors)\",\n",
       "  \"def chk_colors():\\n    if 'colors' in globals():\\n        print('True')\\n    else:\\n        print('False')\\n\\nchk_colors()\",\n",
       "  'globals()',\n",
       "  \"import pickle\\n\\nf = open('color', 'wb')\\n\\npickle.dump(colors, f)\\n\\ndel colors\\n\\nchk_colors()\",\n",
       "  'globals()'],\n",
       " '_oh': {19: {...}},\n",
       " '_dh': ['/Users/anbomi/python_works/PythonWorkshop'],\n",
       " 'In': ['',\n",
       "  \"get_ipython().system('ls')\",\n",
       "  \"f = open('test.txt', 'w')\\n\\nprint(f.write('Python Basic Programming for interconnect with Web!'))\",\n",
       "  \"get_ipython().system('type test.txt')\",\n",
       "  \"get_ipython().system('man open')\",\n",
       "  \"f = open('test.txt', 'w')\\n\\nprint(f.write('Python Basic Programming for interconnect with Web!'))\\nf.colse()\",\n",
       "  \"f = open('test.txt', 'w')\\n\\nprint(f.write('Python Basic Programming for interconnect with Web!'))\\nf.close()\",\n",
       "  \"get_ipython().system('ls')\",\n",
       "  \"get_ipython().system('type test.txt')\",\n",
       "  \"f = open('test.txt', 'w')\\n\\nprint(f.write('Python Basic Programming for interconnect with Web!'))\\nf.close()\",\n",
       "  \"f = open('test.txt', 'w')\\n\\nprint(f.write('Python Basic Programming for interconnect with Web!'))\\nf.close()\",\n",
       "  \"get_ipython().system('type test.txt')\",\n",
       "  \"get_ipython().system('type test.txt')\",\n",
       "  \"f = open('test.txt')\\nprint(f.read())\\nf.close()\\nprint(f.closed)\",\n",
       "  \"with open('test.txt') as f:\\n    print(f.readlines())\\n    print(f.closed)\\n    \\nprint(f.closed)\",\n",
       "  \"get_ipython().system('type test.txt')\",\n",
       "  \"with open('test.txt') as f:\\n    print(f.readlines())\\n    print(f.closed)\\n    \\nprint(f.closed)\",\n",
       "  \"colors = ['red', 'green', 'blue']\\nprint(colors)\",\n",
       "  \"def chk_colors():\\n    if 'colors' in globals():\\n        print('True')\\n    else:\\n        print('False')\\n\\nchk_colors()\",\n",
       "  'globals()',\n",
       "  \"import pickle\\n\\nf = open('color', 'wb')\\n\\npickle.dump(colors, f)\\n\\ndel colors\\n\\nchk_colors()\",\n",
       "  'globals()'],\n",
       " 'Out': {19: {...}},\n",
       " 'get_ipython': <bound method InteractiveShell.get_ipython of <ipykernel.zmqshell.ZMQInteractiveShell object at 0x7f9fec1767c0>>,\n",
       " 'exit': <IPython.core.autocall.ZMQExitAutocall at 0x7f9fec30df70>,\n",
       " 'quit': <IPython.core.autocall.ZMQExitAutocall at 0x7f9fec30df70>,\n",
       " '_': {...},\n",
       " '__': '',\n",
       " '___': '',\n",
       " '_i': \"import pickle\\n\\nf = open('color', 'wb')\\n\\npickle.dump(colors, f)\\n\\ndel colors\\n\\nchk_colors()\",\n",
       " '_ii': 'globals()',\n",
       " '_iii': \"def chk_colors():\\n    if 'colors' in globals():\\n        print('True')\\n    else:\\n        print('False')\\n\\nchk_colors()\",\n",
       " '_i1': '!ls',\n",
       " '_exit_code': 1,\n",
       " '_i2': \"f = open('test.txt', 'w')\\n\\nprint(f.write('Python Basic Programming for interconnect with Web!'))\",\n",
       " 'f': <_io.BufferedWriter name='color'>,\n",
       " '_i3': '!type test.txt',\n",
       " '_i4': '!man open',\n",
       " '_i5': \"f = open('test.txt', 'w')\\n\\nprint(f.write('Python Basic Programming for interconnect with Web!'))\\nf.colse()\",\n",
       " '_i6': \"f = open('test.txt', 'w')\\n\\nprint(f.write('Python Basic Programming for interconnect with Web!'))\\nf.close()\",\n",
       " '_i7': '!ls',\n",
       " '_i8': '!type test.txt',\n",
       " '_i9': \"f = open('test.txt', 'w')\\n\\nprint(f.write('Python Basic Programming for interconnect with Web!'))\\nf.close()\",\n",
       " '_i10': \"f = open('test.txt', 'w')\\n\\nprint(f.write('Python Basic Programming for interconnect with Web!'))\\nf.close()\",\n",
       " '_i11': '!type test.txt',\n",
       " '_i12': '!type test.txt',\n",
       " '_i13': \"f = open('test.txt')\\nprint(f.read())\\nf.close()\\nprint(f.closed)\",\n",
       " '_i14': \"with open('test.txt') as f:\\n    print(f.readlines())\\n    print(f.closed)\\n    \\nprint(f.closed)\",\n",
       " '_i15': '!type test.txt',\n",
       " '_i16': \"with open('test.txt') as f:\\n    print(f.readlines())\\n    print(f.closed)\\n    \\nprint(f.closed)\",\n",
       " '_i17': \"colors = ['red', 'green', 'blue']\\nprint(colors)\",\n",
       " '_i18': \"def chk_colors():\\n    if 'colors' in globals():\\n        print('True')\\n    else:\\n        print('False')\\n\\nchk_colors()\",\n",
       " 'chk_colors': <function __main__.chk_colors()>,\n",
       " '_i19': 'globals()',\n",
       " '_19': {...},\n",
       " '_i20': \"import pickle\\n\\nf = open('color', 'wb')\\n\\npickle.dump(colors, f)\\n\\ndel colors\\n\\nchk_colors()\",\n",
       " 'pickle': <module 'pickle' from '/Users/anbomi/opt/anaconda3/lib/python3.8/pickle.py'>,\n",
       " '_i21': 'globals()'}"
      ]
     },
     "execution_count": 21,
     "metadata": {},
     "output_type": "execute_result"
    }
   ],
   "source": [
    "globals()"
   ]
  },
  {
   "cell_type": "code",
   "execution_count": 23,
   "id": "f88a8f0d",
   "metadata": {},
   "outputs": [
    {
     "ename": "FileNotFoundError",
     "evalue": "[Errno 2] No such file or directory: 'colors'",
     "output_type": "error",
     "traceback": [
      "\u001b[0;31m---------------------------------------------------------------------------\u001b[0m",
      "\u001b[0;31mFileNotFoundError\u001b[0m                         Traceback (most recent call last)",
      "\u001b[0;32m<ipython-input-23-0cd7fc14c71d>\u001b[0m in \u001b[0;36m<module>\u001b[0;34m\u001b[0m\n\u001b[0;32m----> 1\u001b[0;31m \u001b[0mf\u001b[0m \u001b[0;34m=\u001b[0m \u001b[0mopen\u001b[0m\u001b[0;34m(\u001b[0m\u001b[0;34m'colors'\u001b[0m\u001b[0;34m,\u001b[0m \u001b[0;34m'rb'\u001b[0m\u001b[0;34m)\u001b[0m\u001b[0;34m\u001b[0m\u001b[0;34m\u001b[0m\u001b[0m\n\u001b[0m\u001b[1;32m      2\u001b[0m \u001b[0mcolors\u001b[0m \u001b[0;34m=\u001b[0m \u001b[0mpickle\u001b[0m\u001b[0;34m.\u001b[0m\u001b[0mload\u001b[0m\u001b[0;34m(\u001b[0m\u001b[0mf\u001b[0m\u001b[0;34m)\u001b[0m\u001b[0;34m\u001b[0m\u001b[0;34m\u001b[0m\u001b[0m\n\u001b[1;32m      3\u001b[0m \u001b[0mf\u001b[0m\u001b[0;34m.\u001b[0m\u001b[0mclose\u001b[0m\u001b[0;34m(\u001b[0m\u001b[0;34m)\u001b[0m\u001b[0;34m\u001b[0m\u001b[0;34m\u001b[0m\u001b[0m\n\u001b[1;32m      4\u001b[0m \u001b[0;34m\u001b[0m\u001b[0m\n\u001b[1;32m      5\u001b[0m \u001b[0mprint\u001b[0m\u001b[0;34m(\u001b[0m\u001b[0mcolors\u001b[0m\u001b[0;34m)\u001b[0m\u001b[0;34m\u001b[0m\u001b[0;34m\u001b[0m\u001b[0m\n",
      "\u001b[0;31mFileNotFoundError\u001b[0m: [Errno 2] No such file or directory: 'colors'"
     ]
    }
   ],
   "source": [
    "f = open('colors', 'rb')\n",
    "colors = pickle.load(f)\n",
    "f.close()\n",
    "\n",
    "print(colors)"
   ]
  },
  {
   "cell_type": "code",
   "execution_count": 24,
   "id": "735cfe51",
   "metadata": {},
   "outputs": [
    {
     "name": "stdout",
     "output_type": "stream",
     "text": [
      "<__main__.Test object at 0x7f9fec39c490>\n",
      "Test\n"
     ]
    }
   ],
   "source": [
    "class Test:\n",
    "    var = None\n",
    "    \n",
    "a = Test()\n",
    "a.var = \"Test\"\n",
    "\n",
    "f = open('test', 'wb')\n",
    "pickle.dump(a, f)\n",
    "f.close()\n",
    "\n",
    "print(a)\n",
    "print(a.var)\n",
    "\n",
    "del a"
   ]
  },
  {
   "cell_type": "code",
   "execution_count": 25,
   "id": "62921502",
   "metadata": {},
   "outputs": [
    {
     "ename": "NameError",
     "evalue": "name 'a' is not defined",
     "output_type": "error",
     "traceback": [
      "\u001b[0;31m---------------------------------------------------------------------------\u001b[0m",
      "\u001b[0;31mNameError\u001b[0m                                 Traceback (most recent call last)",
      "\u001b[0;32m<ipython-input-25-bca0e2660b9f>\u001b[0m in \u001b[0;36m<module>\u001b[0;34m\u001b[0m\n\u001b[0;32m----> 1\u001b[0;31m \u001b[0mprint\u001b[0m\u001b[0;34m(\u001b[0m\u001b[0ma\u001b[0m\u001b[0;34m)\u001b[0m\u001b[0;34m\u001b[0m\u001b[0;34m\u001b[0m\u001b[0m\n\u001b[0m",
      "\u001b[0;31mNameError\u001b[0m: name 'a' is not defined"
     ]
    }
   ],
   "source": [
    "print(a)"
   ]
  },
  {
   "cell_type": "code",
   "execution_count": 26,
   "id": "5b50c02c",
   "metadata": {},
   "outputs": [
    {
     "name": "stdout",
     "output_type": "stream",
     "text": [
      "<__main__.Test object at 0x7f9fec39cdf0>\n",
      "Test\n"
     ]
    }
   ],
   "source": [
    "f = open('test', 'rb')\n",
    "b = pickle.load(f)\n",
    "f.close()\n",
    "\n",
    "print(b)\n",
    "print(b.var)"
   ]
  },
  {
   "cell_type": "code",
   "execution_count": null,
   "id": "b22fd9a8",
   "metadata": {},
   "outputs": [],
   "source": []
  }
 ],
 "metadata": {
  "kernelspec": {
   "display_name": "Python 3",
   "language": "python",
   "name": "python3"
  },
  "language_info": {
   "codemirror_mode": {
    "name": "ipython",
    "version": 3
   },
   "file_extension": ".py",
   "mimetype": "text/x-python",
   "name": "python",
   "nbconvert_exporter": "python",
   "pygments_lexer": "ipython3",
   "version": "3.8.8"
  }
 },
 "nbformat": 4,
 "nbformat_minor": 5
}
