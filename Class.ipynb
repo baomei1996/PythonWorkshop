{
 "cells": [
  {
   "cell_type": "code",
   "execution_count": 1,
   "id": "a43b5977",
   "metadata": {},
   "outputs": [
    {
     "name": "stdout",
     "output_type": "stream",
     "text": [
      "['In', 'Out', 'PyTestClass', '_', '__', '___', '__builtin__', '__builtins__', '__doc__', '__loader__', '__name__', '__package__', '__spec__', '_dh', '_i', '_i1', '_ih', '_ii', '_iii', '_oh', 'exit', 'get_ipython', 'quit']\n",
      "<class 'type'>\n"
     ]
    }
   ],
   "source": [
    "class PyTestClass:\n",
    "    \"\"\"It's for Test Class\"\"\"\n",
    "    pass\n",
    "\n",
    "print(dir())\n",
    "print(type(PyTestClass))"
   ]
  },
  {
   "cell_type": "code",
   "execution_count": 2,
   "id": "719bab9e",
   "metadata": {},
   "outputs": [
    {
     "name": "stdout",
     "output_type": "stream",
     "text": [
      "My name is Default\n",
      "My name is 파이썬3 테스트 클래스\n",
      "My name is 파이썬3 테스트 클래스\n"
     ]
    }
   ],
   "source": [
    "class Person:\n",
    "    Name = \"Default\"\n",
    "    \n",
    "    def Print(self):\n",
    "        print(\"My name is {0}\".format(self.Name))\n",
    " \n",
    "p = Person()\n",
    "p.Print()\n",
    "\n",
    "p.Name = '파이썬3 테스트 클래스'\n",
    "p.Print()\n",
    "Person.Print(p)"
   ]
  },
  {
   "cell_type": "code",
   "execution_count": 3,
   "id": "b77696cf",
   "metadata": {},
   "outputs": [
    {
     "name": "stdout",
     "output_type": "stream",
     "text": [
      "p Name:  파이썬3 테스트 클래스\n",
      "p2 Name:  Default\n",
      "p title Python3 테스트\n",
      "p2 title: Python3 테스트\n",
      "Person title:  Python3 테스트\n",
      "p age:  20\n"
     ]
    }
   ],
   "source": [
    "p2 = Person()\n",
    "\n",
    "print(\"p Name: \", p.Name)\n",
    "print(\"p2 Name: \", p2.Name)\n",
    "\n",
    "Person.title = \"Python3 테스트\"\n",
    "print(\"p title\", p.title)\n",
    "print('p2 title:', p2.title)\n",
    "print('Person title: ', Person.title)\n",
    "\n",
    "p.age = 20\n",
    "\n",
    "print('p age: ', p.age)"
   ]
  },
  {
   "cell_type": "code",
   "execution_count": 4,
   "id": "887cd303",
   "metadata": {},
   "outputs": [
    {
     "ename": "AttributeError",
     "evalue": "type object 'Person' has no attribute 'age'",
     "output_type": "error",
     "traceback": [
      "\u001b[0;31m---------------------------------------------------------------------------\u001b[0m",
      "\u001b[0;31mAttributeError\u001b[0m                            Traceback (most recent call last)",
      "\u001b[0;32m<ipython-input-4-4d303829d005>\u001b[0m in \u001b[0;36m<module>\u001b[0;34m\u001b[0m\n\u001b[0;32m----> 1\u001b[0;31m \u001b[0mprint\u001b[0m\u001b[0;34m(\u001b[0m\u001b[0;34m'Person age'\u001b[0m\u001b[0;34m,\u001b[0m \u001b[0mPerson\u001b[0m\u001b[0;34m.\u001b[0m\u001b[0mage\u001b[0m\u001b[0;34m)\u001b[0m\u001b[0;34m\u001b[0m\u001b[0;34m\u001b[0m\u001b[0m\n\u001b[0m",
      "\u001b[0;31mAttributeError\u001b[0m: type object 'Person' has no attribute 'age'"
     ]
    }
   ],
   "source": [
    "print('Person age', Person.age)"
   ]
  },
  {
   "cell_type": "code",
   "execution_count": 7,
   "id": "72ff83da",
   "metadata": {},
   "outputs": [
    {
     "name": "stdout",
     "output_type": "stream",
     "text": [
      "클래스 멤버 아님\n",
      "테스트 메세지\n"
     ]
    }
   ],
   "source": [
    "str1 = '클래스 멤버 아님'\n",
    "\n",
    "class NonSelfTest:\n",
    "    str1 = ''\n",
    "    def Set(self, msg):\n",
    "        self.str1 = msg\n",
    "    def Print(self):\n",
    "        print(str1)\n",
    "    def WhyUseSelfPrint(self):\n",
    "        print(self.str1)\n",
    "        \n",
    "test = NonSelfTest()\n",
    "\n",
    "test.Set('테스트 메세지')\n",
    "test.Print()\n",
    "test.WhyUseSelfPrint()"
   ]
  },
  {
   "cell_type": "code",
   "execution_count": 12,
   "id": "47edd3e2",
   "metadata": {},
   "outputs": [
    {
     "name": "stdout",
     "output_type": "stream",
     "text": [
      "생성자! Value =  333\n",
      "소멸자! \n",
      "누가 먼저냐!\n"
     ]
    }
   ],
   "source": [
    "class Vehicles:\n",
    "    def __init__(self, value):\n",
    "        self.Value = value\n",
    "        print(\"생성자! Value = \", value)\n",
    "        \n",
    "    def __del__(self):\n",
    "        print(\"소멸자! \")\n",
    "    \n",
    "def test():\n",
    "    v = Vehicles(333)\n",
    "        \n",
    "test()\n",
    "print('누가 먼저냐!')"
   ]
  },
  {
   "cell_type": "code",
   "execution_count": 14,
   "id": "2904c36d",
   "metadata": {},
   "outputs": [
    {
     "name": "stdout",
     "output_type": "stream",
     "text": [
      "info(name: Maron, phone num: 045-607-1852\n",
      "{'name': 'Maron', 'phoneNum': '045-607-1852'}\n",
      "{'name': 'Lunar', 'phoneNum': '406-708-3821', 'subject': 'Electronic Engineering', 'studentId': '7283492'}\n"
     ]
    }
   ],
   "source": [
    "class Person: \n",
    "    def __init__(self, name, phoneNum):\n",
    "        self.name = name\n",
    "        self.phoneNum = phoneNum\n",
    "        \n",
    "    def printInfo(self):\n",
    "        print(\"info(name: {0}, phone num: {1}\".format(self.name, self.phoneNum))\n",
    "        \n",
    "class Student(Person):\n",
    "    def __init__(self, name, phoneNum, subject, studentId):\n",
    "        self.name = name\n",
    "        self.phoneNum = phoneNum\n",
    "        self.subject = subject\n",
    "        self.studentId = studentId\n",
    "        \n",
    "\n",
    "p = Person(\"Maron\", \"045-607-1852\")\n",
    "s = Student(\"Lunar\", '406-708-3821', 'Electronic Engineering', '7283492')\n",
    "\n",
    "p.printInfo()\n",
    "\n",
    "print(p.__dict__)\n",
    "print(s.__dict__)"
   ]
  },
  {
   "cell_type": "code",
   "execution_count": 16,
   "id": "8b3c93c0",
   "metadata": {},
   "outputs": [
    {
     "name": "stdout",
     "output_type": "stream",
     "text": [
      "Im Sub Class: [3]\n",
      "Im Super Class\n",
      "{'Number': 3}\n"
     ]
    }
   ],
   "source": [
    "# super() 활용법\n",
    "\n",
    "class Parent(object):\n",
    "    def __init__(self, number):\n",
    "        self.Number = number\n",
    "    \n",
    "    def printMsg(self):\n",
    "        print('Im Super Class')\n",
    "        \n",
    "class Child(Parent):\n",
    "    def __init__(self, number):\n",
    "        super(Child, self).__init__(number)\n",
    "        \n",
    "    def printMsg(self):\n",
    "        print('Im Sub Class: [%s]'% str(self.Number))\n",
    "        super(Child, self).printMsg()\n",
    "    \n",
    "c = Child(3)\n",
    "\n",
    "c.printMsg()\n",
    "\n",
    "print(c.__dict__)"
   ]
  },
  {
   "cell_type": "code",
   "execution_count": 23,
   "id": "e911278d",
   "metadata": {},
   "outputs": [
    {
     "name": "stdout",
     "output_type": "stream",
     "text": [
      "52 0.4910344713333118\n",
      "77 0.32272464021443614\n",
      "42 0.538303657140001\n",
      "72 0.7590707112433367\n",
      "87 0.49660442874212096\n",
      "47 0.42717592965309337\n",
      "99 0.09564218807813674\n",
      "36 0.08169252672085447\n",
      "5 0.23201934940894464\n",
      "70 0.684771431147871\n",
      "62 0.7165368858991246\n",
      "53 0.22879086292178497\n",
      "49 0.9511489565806159\n",
      "80 0.8585633469698741\n",
      "14 0.35481806671286154\n",
      "78 0.09613548558867124\n",
      "33 0.6435963051043743\n",
      "16 0.2494427139233788\n",
      "98 0.33071306485654106\n",
      "64 0.5950639485781629\n"
     ]
    }
   ],
   "source": [
    "# 파이썬 난수 \n",
    "from random import * \n",
    "\n",
    "for i in range(20): \n",
    "    rand_int = randint(1, 100)\n",
    "    rand_float = random() # 0~1사이\n",
    "    print(rand_int, rand_float)\n",
    "    \n"
   ]
  },
  {
   "cell_type": "code",
   "execution_count": 17,
   "id": "6fd22aa1",
   "metadata": {},
   "outputs": [],
   "source": [
    "# 숙제 1. \n",
    "# 1~ 100까지의 숫자중 3의 배수만 추려서 출력하는\n",
    "# 클래스 및 메서드를 프로그래밍 하시오.\n",
    "\n",
    "# 숙제 2.\n",
    "# 주사위 게임을 플레이할 수 있도록 클래스 및 메서드를 작성하시오\n",
    "# 주사위는 1개만 굴리도록 하며 승패판정은 누가 더 높은 주사위 눈금을 가지느냐에 따라 갈린다. \n",
    "\n",
    "\n"
   ]
  },
  {
   "cell_type": "code",
   "execution_count": null,
   "id": "60404d8d",
   "metadata": {},
   "outputs": [],
   "source": []
  }
 ],
 "metadata": {
  "kernelspec": {
   "display_name": "Python 3",
   "language": "python",
   "name": "python3"
  },
  "language_info": {
   "codemirror_mode": {
    "name": "ipython",
    "version": 3
   },
   "file_extension": ".py",
   "mimetype": "text/x-python",
   "name": "python",
   "nbconvert_exporter": "python",
   "pygments_lexer": "ipython3",
   "version": "3.8.8"
  }
 },
 "nbformat": 4,
 "nbformat_minor": 5
}
