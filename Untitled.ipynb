{
 "cells": [
  {
   "cell_type": "code",
   "execution_count": null,
   "id": "a9e14e36",
   "metadata": {},
   "outputs": [],
   "source": [
    "# https://kauth.kakao.com/oauth/authorize?client_id=aacbd172163c8e0703e78bb637350490&redirect_uri=https://localhost.com&response_type=code&scope=friends,talk_message"
   ]
  },
  {
   "cell_type": "code",
   "execution_count": null,
   "id": "e668b65a",
   "metadata": {},
   "outputs": [],
   "source": []
  },
  {
   "cell_type": "code",
   "execution_count": 1,
   "id": "4f7d4dc9",
   "metadata": {},
   "outputs": [
    {
     "name": "stdout",
     "output_type": "stream",
     "text": [
      "Error!\n"
     ]
    }
   ],
   "source": [
    "import requests\n",
    "\n",
    "url = \"https://kauth.kakao.com/oauth/token\"\n",
    "\n",
    "data = {\n",
    "    \"grant_type\" : \"authorization_code\",\n",
    "    \"client_id\" : \"\",\n",
    "    \"redirect_uri\" : \"https://localhost.com\",\n",
    "    \"code\" : \"\"\n",
    "}\n",
    "\n",
    "response = requests.post(url, data=data)\n",
    "\n",
    "if response.status_code != 200:\n",
    "    print(\"Error!\")\n",
    "else:\n",
    "    tokens = response.json()\n",
    "    print(tokens)"
   ]
  },
  {
   "cell_type": "code",
   "execution_count": 9,
   "id": "279e6cc0",
   "metadata": {},
   "outputs": [],
   "source": [
    "import json\n",
    "\n",
    "# Kakao Token 저장 파일\n",
    "KAKAO_FRIEND_TOKEN_SAVED_FILE = \"res/kakao_friend_msg/kakao_token.json\"\n",
    "\n",
    "# 저장\n",
    "def save_tokens(filename, tokens):\n",
    "    with open(filename, \"w\") as fp:\n",
    "        json.dump(tokens, fp)\n",
    "        \n",
    "# 읽기\n",
    "def load_tokens(filename):\n",
    "    with open(filename) as fp:\n",
    "        tokens = json.load(fp)\n",
    "        \n",
    "    return tokens\n",
    "\n",
    "# token 저장\n",
    "save_tokens(KAKAO_FRIEND_TOKEN_SAVED_FILE, tokens)"
   ]
  },
  {
   "cell_type": "code",
   "execution_count": 10,
   "id": "6d64b0e8",
   "metadata": {},
   "outputs": [
    {
     "name": "stdout",
     "output_type": "stream",
     "text": [
      "<class 'dict'>\n",
      "{'elements': [{'profile_nickname': '에디', 'profile_thumbnail_image': 'https://p.kakaocdn.net/th/talkp/wmxXrHTct1/xcri7QCe9K9eoLp7W41tyK/o0yp94_110x110_c.jpg', 'id': 1929743596, 'uuid': 'voq4j72Iuom_k6SWopKnlKyesoSwgLiAs-w', 'favorite': False}], 'total_count': 1, 'after_url': None, 'result_id': 'zbnYtN-AsoO0gbiLv4fY7trq0urZhvSR9p_smP2P6o7Rt9agz73UoMWaq_SV-ZXKoc6R59Q4', 'favorite_count': 0}\n",
      "=================================================\n",
      "[{'profile_nickname': '에디', 'profile_thumbnail_image': 'https://p.kakaocdn.net/th/talkp/wmxXrHTct1/xcri7QCe9K9eoLp7W41tyK/o0yp94_110x110_c.jpg', 'id': 1929743596, 'uuid': 'voq4j72Iuom_k6SWopKnlKyesoSwgLiAs-w', 'favorite': False}]\n",
      "=================================================\n",
      "voq4j72Iuom_k6SWopKnlKyesoSwgLiAs-w\n",
      "voq4j72Iuom_k6SWopKnlKyesoSwgLiAs-w\n"
     ]
    }
   ],
   "source": [
    "import json\n",
    "import requests\n",
    "\n",
    "# 토큰 정보 활용\n",
    "tokens = load_tokens(KAKAO_FRIEND_TOKEN_SAVED_FILE)\n",
    "\n",
    "# 친구 목록부터 가져오자!\n",
    "friends_url = \"https://kapi.kakao.com/v1/api/talk/friends\"\n",
    "\n",
    "headers = {\n",
    "    \"Authorization\" : \"Bearer \" + tokens['access_token']\n",
    "}\n",
    "\n",
    "res = json.loads(requests.get(friends_url, headers=headers).text)\n",
    "\n",
    "print(type(res))\n",
    "print(res)\n",
    "print(\"=================================================\")\n",
    "\n",
    "friends_list = res.get(\"elements\")\n",
    "print(friends_list)\n",
    "print(\"=================================================\")\n",
    "\n",
    "print(friends_list[0].get(\"uuid\"))\n",
    "fid = friends_list[0].get(\"uuid\")\n",
    "print(fid)\n"
   ]
  },
  {
   "cell_type": "code",
   "execution_count": 11,
   "id": "b433678a",
   "metadata": {},
   "outputs": [
    {
     "name": "stdout",
     "output_type": "stream",
     "text": [
      "200\n",
      "카톡 메시지가 간드아!!!\n"
     ]
    }
   ],
   "source": [
    "# 카톡 친구에게 메시지 보내기\n",
    "fsend_url = \"https://kapi.kakao.com/v1/api/talk/friends/message/default/send\"\n",
    "\n",
    "data = {\n",
    "    'receiver_uuids' : '[\"{}\"]'.format(fid),\n",
    "    \"template_object\" : json.dumps({\n",
    "        \"object_type\" : \"text\",\n",
    "        \"text\" : \"우왕굳! 친구추가가 문제였네요..ㅜ ㅎ\",\n",
    "        \"link\" : {\n",
    "            \"web_url\" : \"www.naver.com\"\n",
    "        }\n",
    "    })\n",
    "}\n",
    "\n",
    "# 메시지 전송\n",
    "response = requests.post(fsend_url, headers=headers, data=data)\n",
    "print(response.status_code)\n",
    "\n",
    "if response.status_code != 200:\n",
    "    print(\"Error!\")\n",
    "else:\n",
    "    print(\"카톡 메시지가 간드아!!!\")"
   ]
  },
  {
   "cell_type": "code",
   "execution_count": null,
   "id": "5deaee05",
   "metadata": {},
   "outputs": [],
   "source": []
  }
 ],
 "metadata": {
  "kernelspec": {
   "display_name": "Python 3",
   "language": "python",
   "name": "python3"
  },
  "language_info": {
   "codemirror_mode": {
    "name": "ipython",
    "version": 3
   },
   "file_extension": ".py",
   "mimetype": "text/x-python",
   "name": "python",
   "nbconvert_exporter": "python",
   "pygments_lexer": "ipython3",
   "version": "3.8.8"
  }
 },
 "nbformat": 4,
 "nbformat_minor": 5
}
